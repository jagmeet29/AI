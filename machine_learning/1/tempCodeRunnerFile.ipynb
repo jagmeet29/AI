age = int (input ("Enter New Customer's Age: "))
sal = int (input ("Enter New Customer's Salary: "))
newCust = [[age,sal]]
result = model.predict(sc.transform(newCust))
print(result)
if result == 1:
    print("Customer will Buy")
else :
    print("Customer won't Buy")